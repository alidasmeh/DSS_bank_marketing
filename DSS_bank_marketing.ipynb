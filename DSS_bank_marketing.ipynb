{
  "nbformat": 4,
  "nbformat_minor": 0,
  "metadata": {
    "colab": {
      "provenance": []
    },
    "kernelspec": {
      "name": "python3",
      "display_name": "Python 3"
    },
    "language_info": {
      "name": "python"
    }
  },
  "cells": [
    {
      "cell_type": "markdown",
      "source": [
        "# Import and clean data\n",
        "- fill unknown cells with similars\n",
        "- ID is added for every row\n",
        "- remove rows with unknown cells"
      ],
      "metadata": {
        "id": "s6DowNujXUSa"
      }
    },
    {
      "cell_type": "code",
      "source": [
        "import pandas as pd\n",
        "\n",
        "df = pd.read_csv('https://ali.dasmeh.ir/bank-direct-marketing-campaigns.csv')"
      ],
      "metadata": {
        "id": "TYbj_wvKKxDQ"
      },
      "execution_count": null,
      "outputs": []
    },
    {
      "cell_type": "code",
      "execution_count": null,
      "metadata": {
        "colab": {
          "base_uri": "https://localhost:8080/"
        },
        "id": "UGbQnCk0m2zH",
        "outputId": "2cb663b8-5388-4ee4-a2a2-7bf10e47f825"
      },
      "outputs": [
        {
          "output_type": "stream",
          "name": "stderr",
          "text": [
            "<ipython-input-4-af6c269175ed>:17: SettingWithCopyWarning: \n",
            "A value is trying to be set on a copy of a slice from a DataFrame.\n",
            "Try using .loc[row_indexer,col_indexer] = value instead\n",
            "\n",
            "See the caveats in the documentation: https://pandas.pydata.org/pandas-docs/stable/user_guide/indexing.html#returning-a-view-versus-a-copy\n",
            "  df['id'] = df.reset_index().index + 1\n"
          ]
        },
        {
          "output_type": "stream",
          "name": "stdout",
          "text": [
            "Number of rows with None value :  (10678, 21)\n"
          ]
        }
      ],
      "source": [
        "# for combining conditions\n",
        "from functools import reduce\n",
        "import operator\n",
        "\n",
        "# converting type of data\n",
        "df.replace('unknown', None, inplace=True) # because in the next step I want to use dropna\n",
        "\n",
        "df['y'].replace('yes', 1, inplace=True)\n",
        "df['y'].replace('no', 0, inplace=True)\n",
        "\n",
        "# 3 is there because I want to drop rows with more than 2 None\n",
        "df = df.dropna(thresh = df.shape[1] - 3)\n",
        "\n",
        "# assign id for all rows\n",
        "df['id'] = df.reset_index().index + 1\n",
        "\n",
        "def create_combined_condition(conditions_arr):\n",
        "  combined_condition = conditions_arr[0] & conditions_arr[1]\n",
        "  for condition in conditions_arr[2:] :\n",
        "    combined_condition = combined_condition & condition\n",
        "\n",
        "  return combined_condition\n",
        "\n",
        "def search_for_the_most_similar_row(current_row, key_with_none_value):\n",
        "  conditions = []\n",
        "  for key, value in current_row.items():\n",
        "    if value is not None:\n",
        "      conditions.append((df[key] == value))\n",
        "    else:\n",
        "      conditions.append((df[key].notna()))\n",
        "\n",
        "  combined_condition = create_combined_condition(conditions)\n",
        "  similar_rows = df[combined_condition]\n",
        "  conditions.pop()\n",
        "\n",
        "  while similar_rows.shape[0]== 0 and len(conditions) > 3:\n",
        "    combined_condition = create_combined_condition(conditions)\n",
        "    similar_rows = df[combined_condition]\n",
        "    conditions.pop()\n",
        "\n",
        "\n",
        "  if similar_rows.shape[0] == 0:\n",
        "    return False\n",
        "\n",
        "  else:\n",
        "    return similar_rows.iloc[0, :][key_with_none_value]\n",
        "\n",
        "print(\"Number of rows with None value : \" , df[df.isna().any(axis=1)].shape)\n",
        "\n",
        "must_be_removed = []\n",
        "for index, row in df[df.isna().any(axis=1)].iterrows():\n",
        "  for key, value in row.items():\n",
        "    # if key == \"housing\" and value is None:\n",
        "    if value is None:\n",
        "      new_value = search_for_the_most_similar_row(row, key)\n",
        "      if new_value == False:\n",
        "        must_be_removed.append(row['id']) # there was no similar row, then remove cuurent row.\n",
        "      else:\n",
        "        df.at[index, key] = new_value\n",
        "\n",
        "\n",
        "for row_index in list(set(must_be_removed)):\n",
        "  df =  df[df['id'] != row_index]\n",
        "\n",
        "df.drop_duplicates()\n",
        "\n",
        "# I do not know why but some rows did not get value instead of None and did not remove ! then I remove them here.\n",
        "df = df.dropna()"
      ]
    },
    {
      "cell_type": "markdown",
      "source": [
        "# Convert categories' names to numbers\n",
        "this must be modified for any new dataset"
      ],
      "metadata": {
        "id": "cxmu8q3NQ1eY"
      }
    },
    {
      "cell_type": "code",
      "source": [
        "# converting strings to numbers\n",
        "def categories_to_number(df):\n",
        "  modified_df = df.copy(deep=True)\n",
        "\n",
        "  mapping_dict_for_week_days = {\"mon\": 1, \"tue\": 2, \"wed\": 3, \"thu\": 4, \"fri\": 5}\n",
        "  modified_df[\"day_of_week\"] = modified_df[\"day_of_week\"].map(mapping_dict_for_week_days)\n",
        "\n",
        "  mapping_dict_month_to_number = { \"jan\": 1, \"feb\": 2, \"mar\": 3, \"apr\": 4, \"may\": 5, \"jun\": 6, \"jul\": 7, \"aug\": 8, \"sep\": 9, \"oct\": 10, \"nov\": 11, \"dec\": 12 }\n",
        "  modified_df[\"month\"] = modified_df[\"month\"].map(mapping_dict_month_to_number)\n",
        "\n",
        "  mapping_dict_contact = { \"cellular\": 1, \"telephone\": 2 }\n",
        "  modified_df[\"contact\"] = modified_df[\"contact\"].map(mapping_dict_contact)\n",
        "\n",
        "  mapping_dict_loan = { \"yes\": True, \"no\": False }\n",
        "  modified_df[\"loan\"] = modified_df[\"loan\"].map(mapping_dict_loan)\n",
        "\n",
        "  mapping_dict_housing = { \"yes\": True, \"no\": False }\n",
        "  modified_df[\"housing\"] = modified_df[\"housing\"].map(mapping_dict_housing)\n",
        "\n",
        "  mapping_dict_education = { \"basic.4y\": 1, \"basic.6y\": 2, \"basic.9y\": 3, \"high.school\": 4, \"illiterate\": 5, \"professional.course\": 6, \"university.degree\": 7 }\n",
        "  modified_df[\"education\"] = modified_df[\"education\"].map(mapping_dict_education)\n",
        "\n",
        "  mapping_dict_marital = { \"married\": 1, \"single\": 2, \"divorced\": 3 }\n",
        "  modified_df[\"marital\"] = modified_df[\"marital\"].map(mapping_dict_marital)\n",
        "\n",
        "  mapping_dict_job = { \"admin.\": 1, \"blue-collar\": 2, \"entrepreneur\": 3 , \"housemaid\": 4 , \"management\": 5 , \"retired\": 6 , \"self-employed\": 7, \"services\": 8 , \"student\": 9 , \"technician\": 10, \"unemployed\": 11 }\n",
        "  modified_df[\"job\"] = modified_df[\"job\"].map(mapping_dict_job)\n",
        "\n",
        "  mapping_dict_default = { \"no\": False, \"yes\": True }\n",
        "  modified_df[\"default\"] = modified_df[\"default\"].map(mapping_dict_default)\n",
        "\n",
        "  del modified_df['poutcome']\n",
        "  del modified_df['pdays']\n",
        "\n",
        "  return modified_df\n",
        "\n",
        "modified_df = categories_to_number(df)"
      ],
      "metadata": {
        "id": "eNAZyy0JxO5S"
      },
      "execution_count": null,
      "outputs": []
    },
    {
      "cell_type": "markdown",
      "source": [
        "# Model Training"
      ],
      "metadata": {
        "id": "EdwsOOnQREmo"
      }
    },
    {
      "cell_type": "code",
      "source": [
        "# Import necessary libraries\n",
        "from sklearn.model_selection import train_test_split\n",
        "from sklearn.tree import DecisionTreeClassifier\n",
        "from sklearn.metrics import accuracy_score, classification_report\n",
        "\n",
        "\n",
        "x = modified_df.loc[:, modified_df.columns != 'y']\n",
        "features = x.loc[:, x.columns != 'id']\n",
        "\n",
        "target = modified_df.loc[:, 'y']\n",
        "\n",
        "# Step 2: Split the data into training and testing sets\n",
        "X_train, X_test, y_train, y_test = train_test_split(features, target, test_size=0.2, random_state=42)\n",
        "\n",
        "# Step 3: Create and train the decision tree model\n",
        "model = DecisionTreeClassifier(random_state=42)\n",
        "model.fit(X_train, y_train)\n",
        "\n",
        "# Step 4: Make predictions on the test set\n",
        "y_pred = model.predict(X_test)\n",
        "\n",
        "# Step 5: Evaluate the model\n",
        "accuracy = accuracy_score(y_test, y_pred)\n",
        "classification_rep = classification_report(y_test, y_pred)\n",
        "\n",
        "# Print the evaluation metrics\n",
        "print(f\"Accuracy: {accuracy}\")\n",
        "print(\"\\nClassification Report:\")\n",
        "print(classification_rep)"
      ],
      "metadata": {
        "colab": {
          "base_uri": "https://localhost:8080/"
        },
        "id": "QnNSG3-0dUY3",
        "outputId": "b6a7eb6d-dd1d-4570-e574-7e2c505cfc0f"
      },
      "execution_count": null,
      "outputs": [
        {
          "output_type": "stream",
          "name": "stdout",
          "text": [
            "Accuracy: 0.8335807968324672\n",
            "\n",
            "Classification Report:\n",
            "              precision    recall  f1-score   support\n",
            "\n",
            "           0       0.92      0.90      0.91      7165\n",
            "           1       0.30      0.35      0.32       917\n",
            "\n",
            "    accuracy                           0.83      8082\n",
            "   macro avg       0.61      0.62      0.61      8082\n",
            "weighted avg       0.85      0.83      0.84      8082\n",
            "\n"
          ]
        }
      ]
    },
    {
      "cell_type": "code",
      "source": [
        "import joblib\n",
        "\n",
        "joblib.dump(model, 'dss_bank_marketing_trained_model.sav')\n"
      ],
      "metadata": {
        "colab": {
          "base_uri": "https://localhost:8080/"
        },
        "id": "EatnfB0aRu87",
        "outputId": "4bad9cf2-d374-48f2-b201-2a400c761faa"
      },
      "execution_count": null,
      "outputs": [
        {
          "output_type": "execute_result",
          "data": {
            "text/plain": [
              "['dss_bank_marketing_trained_model.sav']"
            ]
          },
          "metadata": {},
          "execution_count": 9
        }
      ]
    },
    {
      "cell_type": "markdown",
      "source": [
        "# Prediction"
      ],
      "metadata": {
        "id": "ppOOFw5uOJJ5"
      }
    },
    {
      "cell_type": "code",
      "source": [
        "new_predict = pd.DataFrame([\n",
        "  {\n",
        "    \"age\": 56,\n",
        "    \"job\": \"housemaid\",\n",
        "    \"marital\": \"married\",\n",
        "    \"education\": \"basic.4y\",\n",
        "    \"default\": \"no\",\n",
        "    \"housing\": \"no\",\n",
        "    \"loan\": \"no\",\n",
        "    \"contact\": \"telephone\",\n",
        "    \"month\": \"may\",\n",
        "    \"day_of_week\": \"mon\",\n",
        "    \"campaign\": 1,\n",
        "    \"pdays\": 999,\n",
        "    \"previous\": 0,\n",
        "    \"poutcome\": \"nonexistent\",\n",
        "    \"emp.var.rate\": 1.1,\n",
        "    \"cons.price.idx\": 93.994,\n",
        "    \"cons.conf.idx\": -36.4,\n",
        "    \"euribor3m\": 4.857,\n",
        "    \"nr.employed\": 5191,\n",
        "  },\n",
        "  {\n",
        "    \"age\": 44,\n",
        "    \"job\": \"technician\",\n",
        "    \"marital\": \"married\",\n",
        "    \"education\": \"professional.course\",\n",
        "    \"default\": \"no\",\n",
        "    \"housing\": \"no\",\n",
        "    \"loan\": \"no\",\n",
        "    \"contact\": \"cellular\",\n",
        "    \"month\": \"nov\",\n",
        "    \"day_of_week\": \"fri\",\n",
        "    \"campaign\": 1,\n",
        "    \"pdays\": 999,\n",
        "    \"previous\": 0,\n",
        "    \"poutcome\": \"nonexistent\",\n",
        "    \"emp.var.rate\": -1.1,\n",
        "    \"cons.price.idx\": 94.76700000000001,\n",
        "    \"cons.conf.idx\": -50.8,\n",
        "    \"euribor3m\": 1.028,\n",
        "    \"nr.employed\": 4963.6,\n",
        "  }\n",
        "]) # y = no, yes\n",
        "\n",
        "\n",
        "\n",
        "r = categories_to_number(new_predict)\n",
        "\n",
        "# y_pred = model.predict(r)\n",
        "y_pred = joblib.load('dss_bank_marketing_trained_model.sav').predict(r)\n",
        "y_pred"
      ],
      "metadata": {
        "colab": {
          "base_uri": "https://localhost:8080/"
        },
        "id": "06iC6N-2_QlE",
        "outputId": "dcaae369-6158-4d31-bceb-9bd51d00ef1f"
      },
      "execution_count": null,
      "outputs": [
        {
          "output_type": "execute_result",
          "data": {
            "text/plain": [
              "array([0, 1])"
            ]
          },
          "metadata": {},
          "execution_count": 10
        }
      ]
    }
  ]
}